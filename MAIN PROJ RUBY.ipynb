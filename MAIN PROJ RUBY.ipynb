{
 "cells": [
  {
   "cell_type": "code",
   "execution_count": 104,
   "id": "aa351b6e",
   "metadata": {},
   "outputs": [],
   "source": [
    "import cv2\n",
    "import numpy as np\n",
    "from matplotlib import pyplot as plt"
   ]
  },
  {
   "cell_type": "code",
   "execution_count": 105,
   "id": "5d72b229",
   "metadata": {},
   "outputs": [],
   "source": [
    "## A function to detect the contors and kmowing how many side of every shape"
   ]
  },
  {
   "cell_type": "code",
   "execution_count": 106,
   "id": "e81455c9",
   "metadata": {},
   "outputs": [],
   "source": [
    "def getContours(threshold):\n",
    "    ##getting the contours by built in function\n",
    "    contours,_ = cv2.findContours(threshold, cv2.RETR_TREE, cv2.CHAIN_APPROX_NONE)\n",
    "    maxX = 0\n",
    "    maxY = 0\n",
    "    ##looping for every contour to know what is the shape from it's side numbers\n",
    "    for j in contours:\n",
    "        ##using a builtin function to store the sides' length of the contour into the list appox \n",
    "        approx = cv2.approxPolyDP(j, 0.01 * cv2.arcLength(j, True), True)\n",
    "        ##to get the coordinates of the shape\n",
    "        x, y, w, h = cv2.boundingRect(approx)\n",
    "        maxX = max(maxX,w)\n",
    "        maxY = max(maxY,w)\n",
    "        if((w>=200) or (h>=200) ):\n",
    "            pass\n",
    "        else:\n",
    "            ##to draw the boundaries of the shaoe\n",
    "            cv2.drawContours(img, [j], 0, (255, 0, 255), 7)\n",
    "            ##checking for number of sides to know the shape\n",
    "            if len(approx) == 3:\n",
    "                cv2.putText(img, 'Triangle', (x, y+15),cv2.FONT_HERSHEY_COMPLEX, 0.8, (0, 0, 0), 2)\n",
    "            elif len(approx) == 4:\n",
    "                aspRatio = w/float(h)\n",
    "                if aspRatio >0.95 and aspRatio <1.05: cv2.putText(img, 'Square',(x, y),cv2.FONT_HERSHEY_COMPLEX,0.8,(0, 0, 0),2)\n",
    "                else:cv2.putText(img, \"Rectangle\",(x-20, y),cv2.FONT_HERSHEY_COMPLEX,0.8,(0, 0, 0),2)\n",
    "            else:\n",
    "                cv2.putText(img, 'circle', (x+40,y),cv2.FONT_HERSHEY_COMPLEX, 0.8 ,(0, 0, 0), 2)\n",
    "    if(maxX>maxY):\n",
    "        cv2.putText(img, 'Horizontal Direction', (200,100),cv2.FONT_HERSHEY_COMPLEX, 1 ,(255, 0, 0) )\n",
    "    else:\n",
    "        cv2.putText(img, 'Vertical Direction', (200,100),cv2.FONT_HERSHEY_COMPLEX, 1 ,(255, 0, 0))"
   ]
  },
  {
   "cell_type": "code",
   "execution_count": 107,
   "id": "c9c88556",
   "metadata": {},
   "outputs": [],
   "source": [
    "def getColors(img):\n",
    "    #getting the colors mask by using the boundry of each color and inRange builtin function\n",
    "    red_mask = cv2.inRange(img, (0, 0, 50), (50, 50,255))\n",
    "    green_mask = cv2.inRange(img, (0,50,0), (50, 255, 50))\n",
    "    blue_mask = cv2.inRange(img, (50,0,0), (255, 50, 50))\n",
    "    yellow_mask =cv2.inRange(img, (0,180,200), (50,255,255))\n",
    "    #for the red mask getting the contours of the remannig shapes to print the text in it\n",
    "    contours,_ = cv2.findContours(red_mask,cv2.RETR_TREE,cv2.CHAIN_APPROX_NONE)\n",
    "    #looping for each contour in the mask\n",
    "    for pic, contour in enumerate(contours):\n",
    "        #optional feature if there's noise in the pic and it form a small contour\n",
    "        area = cv2.contourArea(contour)\n",
    "                #getting the coordinates\n",
    "        x, y, w, h = cv2.boundingRect(contour)\n",
    "        if(area > 300 or w>1000 or h>1000):\n",
    "            cv2.putText(img, \"Red\", (x, y+50),cv2.FONT_HERSHEY_SIMPLEX, 1.0,(0, 0,0),2)    \n",
    "    contours,_ = cv2.findContours(green_mask,cv2.RETR_TREE,cv2.CHAIN_APPROX_NONE)\n",
    "    #for the green mask getting the contours of the remannig shapes to print the text in it\n",
    "    for pic, contour in enumerate(contours):\n",
    "        area = cv2.contourArea(contour)\n",
    "        x, y, w, h = cv2.boundingRect(contour)\n",
    "        if(area > 300 or w>1000 or h>1000):\n",
    "            cv2.putText(img, \"Green\", (x, y+50),cv2.FONT_HERSHEY_SIMPLEX, 1.0, (0,0, 0),2)\n",
    "    contours,_ = cv2.findContours(blue_mask,cv2.RETR_TREE,cv2.CHAIN_APPROX_NONE)\n",
    "    #for the blue mask getting the contours of the remannig shapes to print the text in it\n",
    "    for pic, contour in enumerate(contours):\n",
    "        area = cv2.contourArea(contour)\n",
    "        x, y, w, h = cv2.boundingRect(contour)\n",
    "        if(area > 300 or w>1000 or h>1000):           \n",
    "            cv2.putText(img, \"Blue\", (x, y+50),cv2.FONT_HERSHEY_SIMPLEX,1.0, (0, 0, 0),2)\n",
    "    contours,_ = cv2.findContours(yellow_mask,cv2.RETR_TREE,cv2.CHAIN_APPROX_NONE)\n",
    "    #for the yellow mask getting the contours of the remannig shapes to print the text in it\n",
    "    for pic, contour in enumerate(contours):\n",
    "        area = cv2.contourArea(contour)\n",
    "        x, y, w, h = cv2.boundingRect(contour)\n",
    "        if(area > 300 or w>1000 or h>1000):           \n",
    "            cv2.putText(img, \"Yellow\", (x, y+50),cv2.FONT_HERSHEY_SIMPLEX, 1.0,(0,0, 0),2)"
   ]
  },
  {
   "cell_type": "code",
   "execution_count": 108,
   "id": "6522276c",
   "metadata": {},
   "outputs": [],
   "source": [
    "#Reading the IMG\n",
    "img = cv2.imread(r\"C:\\Users\\alymo\\Downloads\\Image processing\\Task Pictures\\test1.png\")\n",
    "#converting the IMG to Grayscale color\n",
    "imgray = cv2.cvtColor(img,cv2.COLOR_BGR2GRAY)\n",
    "_, threshold = cv2.threshold(imgray, 220, 255, cv2.THRESH_BINARY)"
   ]
  },
  {
   "cell_type": "code",
   "execution_count": 109,
   "id": "29b81875",
   "metadata": {},
   "outputs": [],
   "source": [
    "#calling functions\n",
    "getContours(threshold)\n",
    "getColors(img)\n",
    "#showing the image in window\n",
    "cv2.imshow('IMAGE', img)\n",
    "cv2.waitKey(0)\n",
    "cv2.destroyAllWindows()"
   ]
  },
  {
   "cell_type": "code",
   "execution_count": null,
   "id": "9b28d726",
   "metadata": {},
   "outputs": [],
   "source": []
  },
  {
   "cell_type": "code",
   "execution_count": null,
   "id": "3f786302",
   "metadata": {},
   "outputs": [],
   "source": []
  },
  {
   "cell_type": "code",
   "execution_count": null,
   "id": "e7daa5a0",
   "metadata": {},
   "outputs": [],
   "source": []
  },
  {
   "cell_type": "code",
   "execution_count": null,
   "id": "fc469f28",
   "metadata": {},
   "outputs": [],
   "source": []
  }
 ],
 "metadata": {
  "kernelspec": {
   "display_name": "Python 3 (ipykernel)",
   "language": "python",
   "name": "python3"
  },
  "language_info": {
   "codemirror_mode": {
    "name": "ipython",
    "version": 3
   },
   "file_extension": ".py",
   "mimetype": "text/x-python",
   "name": "python",
   "nbconvert_exporter": "python",
   "pygments_lexer": "ipython3",
   "version": "3.9.12"
  }
 },
 "nbformat": 4,
 "nbformat_minor": 5
}
