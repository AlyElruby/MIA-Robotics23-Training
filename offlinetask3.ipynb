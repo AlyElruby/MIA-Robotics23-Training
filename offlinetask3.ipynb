{
 "cells": [
  {
   "cell_type": "code",
   "execution_count": 1,
   "id": "4b0fcd0d",
   "metadata": {},
   "outputs": [
    {
     "ename": "ModuleNotFoundError",
     "evalue": "No module named 'cv2'",
     "output_type": "error",
     "traceback": [
      "\u001b[1;31m---------------------------------------------------------------------------\u001b[0m",
      "\u001b[1;31mModuleNotFoundError\u001b[0m                       Traceback (most recent call last)",
      "\u001b[1;32mc:\\Users\\alymo\\Downloads\\OOP MAIN.ipynb Cell 1\u001b[0m in \u001b[0;36m<cell line: 1>\u001b[1;34m()\u001b[0m\n\u001b[1;32m----> <a href='vscode-notebook-cell:/c%3A/Users/alymo/Downloads/OOP%20MAIN.ipynb#W0sZmlsZQ%3D%3D?line=0'>1</a>\u001b[0m \u001b[39mimport\u001b[39;00m \u001b[39mcv2\u001b[39;00m\n\u001b[0;32m      <a href='vscode-notebook-cell:/c%3A/Users/alymo/Downloads/OOP%20MAIN.ipynb#W0sZmlsZQ%3D%3D?line=1'>2</a>\u001b[0m \u001b[39mimport\u001b[39;00m \u001b[39mnumpy\u001b[39;00m \u001b[39mas\u001b[39;00m \u001b[39mnp\u001b[39;00m\n\u001b[0;32m      <a href='vscode-notebook-cell:/c%3A/Users/alymo/Downloads/OOP%20MAIN.ipynb#W0sZmlsZQ%3D%3D?line=2'>3</a>\u001b[0m \u001b[39mfrom\u001b[39;00m \u001b[39mPIL\u001b[39;00m \u001b[39mimport\u001b[39;00m Image\n",
      "\u001b[1;31mModuleNotFoundError\u001b[0m: No module named 'cv2'"
     ]
    }
   ],
   "source": [
    "import cv2\n",
    "import numpy as np\n",
    "from PIL import Image\n",
    "from matplotlib import pyplot as plt\n",
    "all=[]\n",
    "class shape:\n",
    "    def __init__(self,name,x,y,w,h):\n",
    "        self.name=name\n",
    "        self.x=x\n",
    "        self.y=y\n",
    "        self.w=w\n",
    "    def print_name(self):\n",
    "            cv2.putText(img,self.name, (self.x+40, self.y+15),cv2.FONT_HERSHEY_COMPLEX, 0.8, (0, 0, 0), 2)"
   ]
  },
  {
   "cell_type": "code",
   "execution_count": 73,
   "id": "544c259d",
   "metadata": {},
   "outputs": [],
   "source": [
    "def getColors(img):\n",
    "    #getting the colors mask by using the boundry of each color and inRange builtin function\n",
    "    red_mask = cv2.inRange(img, (0, 0, 50), (50, 50,255))\n",
    "    green_mask = cv2.inRange(img, (0,50,0), (50, 255, 50))\n",
    "    blue_mask = cv2.inRange(img, (50,0,0), (255, 50, 50))\n",
    "    yellow_mask =cv2.inRange(img, (0,180,200), (50,255,255))\n",
    "    #for the red mask getting the contours of the remannig shapes to print the text in it\n",
    "    contours,_ = cv2.findContours(red_mask,cv2.RETR_TREE,cv2.CHAIN_APPROX_NONE)\n",
    "    #looping for each contour in the mask\n",
    "    for pic, contour in enumerate(contours):\n",
    "        #optional feature if there's noise in the pic and it form a small contour\n",
    "        area = cv2.contourArea(contour)\n",
    "                #getting the coordinates\n",
    "        x, y, w, h = cv2.boundingRect(contour)\n",
    "        if(area > 300 or w>1000 or h>1000):\n",
    "            cv2.putText(img, \"Red\", (x, y+50),cv2.FONT_HERSHEY_SIMPLEX, 1.0,(0, 0,0),2)    \n",
    "    contours,_ = cv2.findContours(green_mask,cv2.RETR_TREE,cv2.CHAIN_APPROX_NONE)\n",
    "    #for the green mask getting the contours of the remannig shapes to print the text in it\n",
    "    for pic, contour in enumerate(contours):\n",
    "        area = cv2.contourArea(contour)\n",
    "        x, y, w, h = cv2.boundingRect(contour)\n",
    "        if(area > 300 or w>1000 or h>1000):\n",
    "            cv2.putText(img, \"Green\", (x, y+50),cv2.FONT_HERSHEY_SIMPLEX, 1.0, (0,0, 0),2)\n",
    "    contours,_ = cv2.findContours(blue_mask,cv2.RETR_TREE,cv2.CHAIN_APPROX_NONE)\n",
    "    #for the blue mask getting the contours of the remannig shapes to print the text in it\n",
    "    for pic, contour in enumerate(contours):\n",
    "        area = cv2.contourArea(contour)\n",
    "        x, y, w, h = cv2.boundingRect(contour)\n",
    "        if(area > 300 or w>1000 or h>1000):           \n",
    "            cv2.putText(img, \"Blue\", (x, y+50),cv2.FONT_HERSHEY_SIMPLEX,1.0, (0, 0, 0),2)\n",
    "    contours,_ = cv2.findContours(yellow_mask,cv2.RETR_TREE,cv2.CHAIN_APPROX_NONE)\n",
    "    #for the yellow mask getting the contours of the remannig shapes to print the text in it\n",
    "    for pic, contour in enumerate(contours):\n",
    "        area = cv2.contourArea(contour)\n",
    "        x, y, w, h = cv2.boundingRect(contour)\n",
    "        if(area > 300 or w>1000 or h>1000):           \n",
    "            cv2.putText(img, \"Yellow\", (x, y+50),cv2.FONT_HERSHEY_SIMPLEX, 1.0,(0,0, 0),2)"
   ]
  },
  {
   "cell_type": "code",
   "execution_count": 74,
   "id": "2caf436f",
   "metadata": {},
   "outputs": [],
   "source": [
    "def getShapes(threshold):\n",
    "    ##getting the contours by built in function\n",
    "    contours,_ = cv2.findContours(threshold, cv2.RETR_TREE, cv2.CHAIN_APPROX_NONE)\n",
    "    maxX = 0\n",
    "    maxY = 0\n",
    "    ##looping for every contour to know what is the shape from it's side numbers\n",
    "    for j in contours:\n",
    "        ##using a builtin function to store the sides' length of the contour into the list appox \n",
    "        approx = cv2.approxPolyDP(j, 0.01 * cv2.arcLength(j, True), True)\n",
    "        ##to get the coordinates of the shape\n",
    "        x, y, w, h = cv2.boundingRect(approx)\n",
    "        maxX = max(maxX,w)\n",
    "        maxY = max(maxY,w)\n",
    "        if((w>=200) or (h>=200) ):\n",
    "            pass\n",
    "        else:\n",
    "            ##to draw the boundaries of the shaoe\n",
    "            cv2.drawContours(img, [j], 0, (255, 0, 255), 7)\n",
    "            ##checking for number of sides to know the shape\n",
    "            if len(approx) == 3:\n",
    "                all.append(shape(\"Triangle\",x,y,w,h))\n",
    "            elif len(approx) == 4:\n",
    "                aspRatio = w/float(h)\n",
    "                if aspRatio >0.95 and aspRatio <1.05: all.append(shape(\"Square\",x,y,w,h))\n",
    "                else:all.append(shape(\"Rect\",x,y,w,h))\n",
    "            else:\n",
    "                all.append(shape(\"Circle\",x,y,w,h))"
   ]
  },
  {
   "cell_type": "code",
   "execution_count": 75,
   "id": "d3639618",
   "metadata": {},
   "outputs": [],
   "source": [
    "#Reading the IMG\n",
    "img = cv2.imread(r\"C:\\Users\\alymo\\Downloads\\Image processing\\Task Pictures\\test2.png\")\n",
    "#converting the IMG to Grayscale color\n",
    "imgray = cv2.cvtColor(img,cv2.COLOR_BGR2GRAY)\n",
    "_, threshold = cv2.threshold(imgray, 220, 255, cv2.THRESH_BINARY)\n",
    "#calling functions\n",
    "getShapes(threshold)\n",
    "for i in range(len(all)):\n",
    "    all[i].print_name()\n",
    "getColors(img)\n",
    "#showing the image in window\n",
    "cv2.imshow('IMAGE', img)\n",
    "cv2.waitKey(0)\n",
    "cv2.destroyAllWindows()"
   ]
  },
  {
   "cell_type": "code",
   "execution_count": null,
   "id": "68595736",
   "metadata": {},
   "outputs": [],
   "source": []
  },
  {
   "cell_type": "code",
   "execution_count": null,
   "id": "a1b48350",
   "metadata": {},
   "outputs": [],
   "source": []
  }
 ],
 "metadata": {
  "kernelspec": {
   "display_name": "Python 3.10.6 64-bit",
   "language": "python",
   "name": "python3"
  },
  "language_info": {
   "codemirror_mode": {
    "name": "ipython",
    "version": 3
   },
   "file_extension": ".py",
   "mimetype": "text/x-python",
   "name": "python",
   "nbconvert_exporter": "python",
   "pygments_lexer": "ipython3",
   "version": "3.10.6"
  },
  "vscode": {
   "interpreter": {
    "hash": "5a81d63b190be23e887d6812f3f4116bb3766b012acd4e202e7c9215db9cce84"
   }
  }
 },
 "nbformat": 4,
 "nbformat_minor": 5
}
